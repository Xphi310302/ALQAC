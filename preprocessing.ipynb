{
 "cells": [
  {
   "cell_type": "code",
   "execution_count": null,
   "id": "40fb5999",
   "metadata": {},
   "outputs": [],
   "source": [
    "import json"
   ]
  },
  {
   "cell_type": "code",
   "execution_count": null,
   "id": "5c16944b",
   "metadata": {},
   "outputs": [],
   "source": [
    "path = \"ALQAC_2025_data/alqac25_law.json\"\n",
    "\n",
    "with open(path, \"r\", encoding=\"utf-8\") as f:\n",
    "    json_data = json.load(f)"
   ]
  },
  {
   "cell_type": "code",
   "execution_count": null,
   "id": "2005329d",
   "metadata": {},
   "outputs": [],
   "source": [
    "data = dict()\n",
    "for topic_json in json_data:\n",
    "    topic = topic_json[\"id\"]\n",
    "    articles = topic_json[\"articles\"]\n",
    "    data[topic] = [{idx + 1: article[\"text\"]} for idx, article in enumerate(articles)]\n"
   ]
  },
  {
   "cell_type": "code",
   "execution_count": null,
   "id": "d9483fcf",
   "metadata": {},
   "outputs": [],
   "source": [
    "# display all topics/documents\n",
    "for k in data.keys():\n",
    "    print(k)"
   ]
  },
  {
   "cell_type": "code",
   "execution_count": null,
   "id": "e1a88988",
   "metadata": {},
   "outputs": [],
   "source": [
    "# save yo output folder the each key is a json file in data.keys()\n",
    "import os\n",
    "import json\n",
    "\n",
    "output_folder = \"output\"\n",
    "os.makedirs(output_folder, exist_ok=True)\n",
    "\n",
    "for key in data.keys():\n",
    "    with open(os.path.join(output_folder, f\"{key}.json\"), \"w\", encoding=\"utf-8\") as f:\n",
    "        json.dump(data[key], f, ensure_ascii=False, indent=2)\n"
   ]
  },
  {
   "cell_type": "code",
   "execution_count": null,
   "id": "c4696260",
   "metadata": {},
   "outputs": [],
   "source": []
  }
 ],
 "metadata": {
  "kernelspec": {
   "display_name": ".venv",
   "language": "python",
   "name": "python3"
  },
  "language_info": {
   "codemirror_mode": {
    "name": "ipython",
    "version": 3
   },
   "file_extension": ".py",
   "mimetype": "text/x-python",
   "name": "python",
   "nbconvert_exporter": "python",
   "pygments_lexer": "ipython3",
   "version": "3.11.11"
  }
 },
 "nbformat": 4,
 "nbformat_minor": 5
}
