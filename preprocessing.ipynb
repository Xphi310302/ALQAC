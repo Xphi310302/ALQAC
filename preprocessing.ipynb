{
 "cells": [
  {
   "cell_type": "code",
   "execution_count": 6,
   "id": "40fb5999",
   "metadata": {},
   "outputs": [],
   "source": [
    "import json"
   ]
  },
  {
   "cell_type": "code",
   "execution_count": 7,
   "id": "5c16944b",
   "metadata": {},
   "outputs": [],
   "source": [
    "path = \"ALQAC_2025_data/alqac25_law.json\"\n",
    "\n",
    "with open(path, \"r\", encoding=\"utf-8\") as f:\n",
    "    json_data = json.load(f)"
   ]
  },
  {
   "cell_type": "code",
   "execution_count": 8,
   "id": "2005329d",
   "metadata": {},
   "outputs": [],
   "source": [
    "data = dict()\n",
    "for topic_json in json_data:\n",
    "    topic = topic_json[\"id\"]\n",
    "    articles = topic_json[\"articles\"]\n",
    "    data[topic] = [{idx + 1: article[\"text\"]} for idx, article in enumerate(articles)]\n"
   ]
  },
  {
   "cell_type": "code",
   "execution_count": 9,
   "id": "d9483fcf",
   "metadata": {},
   "outputs": [
    {
     "name": "stdout",
     "output_type": "stream",
     "text": [
      "Luật Phòng, chống ma túy\n",
      "Luật Bảo vệ môi trường\n",
      "Luật Viên chức\n",
      "Luật Cư trú\n",
      "Luật Tiếp cận thông tin\n",
      "Luật Trồng trọt\n",
      "Luật An ninh mạng\n",
      "Luật Chăn nuôi\n",
      "Hiến pháp\n",
      "Luật Du lịch\n",
      "Luật Tố tụng hành chính\n",
      "Luật Hôn nhân và gia đình\n",
      "Bộ luật dân sự\n",
      "Luật Điện ảnh\n",
      "Luật Trọng tài thương mại\n",
      "Luật Thanh niên\n",
      "Luật Giáo dục\n",
      "Luật Đường bộ\n",
      "Luật Giá\n",
      "Luật Căn cước\n",
      "Luật Khám bệnh, chữa bệnh\n",
      "Luật Phòng, chống tác hại của rượu, bia\n",
      "Luật Bảo vệ quyền lợi người tiêu dùng\n",
      "Luật Giao dịch điện tử\n",
      "Luật Viễn thông\n",
      "Luật Tài nguyên nước\n",
      "Luật Đất đai\n",
      "Luật Nhà ở\n"
     ]
    }
   ],
   "source": [
    "# display all topics/documents\n",
    "for k in data.keys():\n",
    "    print(k)"
   ]
  },
  {
   "cell_type": "code",
   "execution_count": 10,
   "id": "e1a88988",
   "metadata": {},
   "outputs": [],
   "source": [
    "# save yo output folder the each key is a json file in data.keys()\n",
    "import os\n",
    "import json\n",
    "\n",
    "output_folder = \"output\"\n",
    "os.makedirs(output_folder, exist_ok=True)\n",
    "\n",
    "for key in data.keys():\n",
    "    with open(os.path.join(output_folder, f\"{key}.json\"), \"w\", encoding=\"utf-8\") as f:\n",
    "        json.dump(data[key], f, ensure_ascii=False, indent=2)\n"
   ]
  },
  {
   "cell_type": "code",
   "execution_count": null,
   "id": "c4696260",
   "metadata": {},
   "outputs": [],
   "source": []
  }
 ],
 "metadata": {
  "kernelspec": {
   "display_name": ".venv",
   "language": "python",
   "name": "python3"
  },
  "language_info": {
   "codemirror_mode": {
    "name": "ipython",
    "version": 3
   },
   "file_extension": ".py",
   "mimetype": "text/x-python",
   "name": "python",
   "nbconvert_exporter": "python",
   "pygments_lexer": "ipython3",
   "version": "3.11.11"
  }
 },
 "nbformat": 4,
 "nbformat_minor": 5
}
