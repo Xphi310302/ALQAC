{
 "cells": [
  {
   "cell_type": "code",
   "execution_count": null,
   "metadata": {
    "colab": {
     "base_uri": "https://localhost:8080/"
    },
    "executionInfo": {
     "elapsed": 10092,
     "status": "ok",
     "timestamp": 1751898426332,
     "user": {
      "displayName": "Phi Nguyễn Xuân",
      "userId": "01616688953778914219"
     },
     "user_tz": -420
    },
    "id": "Io59yzd_JpsJ",
    "outputId": "14f35dcf-1bff-4309-e8b8-683207558a8b"
   },
   "outputs": [],
   "source": [
    "from google.colab import drive\n",
    "drive.mount('/content/drive')"
   ]
  },
  {
   "cell_type": "code",
   "execution_count": null,
   "metadata": {
    "colab": {
     "base_uri": "https://localhost:8080/",
     "height": 1000
    },
    "executionInfo": {
     "elapsed": 154467,
     "status": "ok",
     "timestamp": 1751898586828,
     "user": {
      "displayName": "Phi Nguyễn Xuân",
      "userId": "01616688953778914219"
     },
     "user_tz": -420
    },
    "id": "zM08cbFNMwWl",
    "outputId": "7933af07-369f-4e6b-9d77-d127d252b452"
   },
   "outputs": [],
   "source": [
    "%pip install datasets\n",
    "%pip install llama-index-llms-openai\n",
    "%pip install llama-index-embeddings-openai\n",
    "%pip install llama-index-finetuning\n",
    "%pip install llama-index-readers-file\n",
    "%pip install llama-index-embeddings-huggingface\n",
    "%pip install \"transformers[torch]\""
   ]
  },
  {
   "cell_type": "code",
   "execution_count": null,
   "metadata": {
    "colab": {
     "base_uri": "https://localhost:8080/"
    },
    "executionInfo": {
     "elapsed": 5,
     "status": "ok",
     "timestamp": 1751898586895,
     "user": {
      "displayName": "Phi Nguyễn Xuân",
      "userId": "01616688953778914219"
     },
     "user_tz": -420
    },
    "id": "6PiVXH8ISiwM",
    "outputId": "c5f67c01-9022-4ceb-b136-f14fb0f36e19"
   },
   "outputs": [],
   "source": [
    "import os\n",
    "os.chdir(\"/content/drive/MyDrive/ALQAC\")\n",
    "os.listdir()"
   ]
  },
  {
   "cell_type": "markdown",
   "metadata": {
    "id": "xyP0T_8c1Txg"
   },
   "source": [
    "# Prepare Dataset"
   ]
  },
  {
   "cell_type": "code",
   "execution_count": null,
   "metadata": {
    "colab": {
     "base_uri": "https://localhost:8080/"
    },
    "executionInfo": {
     "elapsed": 330,
     "status": "ok",
     "timestamp": 1751898594879,
     "user": {
      "displayName": "Phi Nguyễn Xuân",
      "userId": "01616688953778914219"
     },
     "user_tz": -420
    },
    "id": "f56OJOfsl4pk",
    "outputId": "f1a2536b-48ba-4dbd-9abe-17a1690eda25"
   },
   "outputs": [],
   "source": [
    "# Load corpus\n",
    "import json\n",
    "path = \"ALQAC_2025_data/alqac25_train.json\"\n",
    "with open(path, \"r\") as f:\n",
    "    train_data = json.load(f)\n",
    "\n",
    "train_data[:2]"
   ]
  },
  {
   "cell_type": "code",
   "execution_count": null,
   "metadata": {
    "colab": {
     "base_uri": "https://localhost:8080/"
    },
    "executionInfo": {
     "elapsed": 9458,
     "status": "ok",
     "timestamp": 1751898605651,
     "user": {
      "displayName": "Phi Nguyễn Xuân",
      "userId": "01616688953778914219"
     },
     "user_tz": -420
    },
    "id": "UavWjtyLnxKe",
    "outputId": "6ee1d5ae-81aa-4c24-c6dd-181d1c4838b8"
   },
   "outputs": [],
   "source": [
    "from pathlib import Path\n",
    "import json\n",
    "\n",
    "documents = {}\n",
    "\n",
    "output_path = Path(\"./output\")\n",
    "for filename in output_path.glob(\"*\"):\n",
    "    print(filename.stem)\n",
    "    with open(filename, \"r\") as file:\n",
    "        json_content = json.load(file)\n",
    "    documents[filename.stem] = json_content\n"
   ]
  },
  {
   "cell_type": "markdown",
   "metadata": {
    "id": "jSFfJtfQtDEH"
   },
   "source": [
    "\n",
    "class EmbeddingQAFinetuneDataset(BaseModel):\n",
    "\n",
    "    Embedding QA Finetuning Dataset.\n",
    "\n",
    "    Args:\n",
    "        queries (Dict[str, str]): Dict id -> query.\n",
    "        corpus (Dict[str, str]): Dict id -> string.\n",
    "        relevant_docs (Dict[str, List[str]]): Dict query id -> list of doc ids."
   ]
  },
  {
   "cell_type": "code",
   "execution_count": null,
   "metadata": {
    "id": "6bDtUEbRtMjz"
   },
   "outputs": [],
   "source": [
    "queries = {}\n",
    "for sample in train_data:\n",
    "    queries.update({sample['question_id']: sample['text']})"
   ]
  },
  {
   "cell_type": "code",
   "execution_count": null,
   "metadata": {
    "colab": {
     "base_uri": "https://localhost:8080/"
    },
    "executionInfo": {
     "elapsed": 9,
     "status": "ok",
     "timestamp": 1751898607511,
     "user": {
      "displayName": "Phi Nguyễn Xuân",
      "userId": "01616688953778914219"
     },
     "user_tz": -420
    },
    "id": "tex6Uk3czCLx",
    "outputId": "d018747c-0b8e-4014-9e10-194d5f4bc8d0"
   },
   "outputs": [],
   "source": [
    "next(iter(queries.items()))"
   ]
  },
  {
   "cell_type": "code",
   "execution_count": null,
   "metadata": {
    "colab": {
     "base_uri": "https://localhost:8080/"
    },
    "executionInfo": {
     "elapsed": 4,
     "status": "ok",
     "timestamp": 1751898608491,
     "user": {
      "displayName": "Phi Nguyễn Xuân",
      "userId": "01616688953778914219"
     },
     "user_tz": -420
    },
    "id": "_Q5qtmOIupwK",
    "outputId": "18355a1e-fe33-4806-917c-670e239ddb22"
   },
   "outputs": [],
   "source": [
    "# id = \"article_id + document_id\"\n",
    "corpus = {}\n",
    "for document in documents:\n",
    "    document_id = document\n",
    "    for article in documents[document_id]:\n",
    "        corpus_id = f\"{document_id} - {list(article.keys())[0]}\"\n",
    "        corpus.update({corpus_id: next(iter(article.values()))})\n",
    "next(iter(corpus.items()))"
   ]
  },
  {
   "cell_type": "code",
   "execution_count": null,
   "metadata": {
    "colab": {
     "base_uri": "https://localhost:8080/"
    },
    "executionInfo": {
     "elapsed": 16,
     "status": "ok",
     "timestamp": 1751898609731,
     "user": {
      "displayName": "Phi Nguyễn Xuân",
      "userId": "01616688953778914219"
     },
     "user_tz": -420
    },
    "id": "zWOxIxQoxVs-",
    "outputId": "7304583b-759e-43a7-bf63-adec77d62044"
   },
   "outputs": [],
   "source": [
    "relevant_docs = {}\n",
    "\n",
    "for sample in train_data:\n",
    "    question_id = sample[\"question_id\"]\n",
    "    relevant_articles = []\n",
    "    for article in sample[\"relevant_articles\"]:\n",
    "        relevant_articles.append(f\"{article['law_id']} - {article['article_id']}\")\n",
    "    relevant_docs.update({question_id: relevant_articles})\n",
    "next(iter(relevant_docs.items()))"
   ]
  },
  {
   "cell_type": "markdown",
   "metadata": {
    "id": "vJiteSXp1V0H"
   },
   "source": [
    "# Load Dataset"
   ]
  },
  {
   "cell_type": "code",
   "execution_count": null,
   "metadata": {
    "id": "ihXbzpKo1Wte"
   },
   "outputs": [],
   "source": [
    "from datasets import Dataset\n",
    "\n",
    "anchors = []\n",
    "positives = []\n",
    "# Open a file, perform preprocessing, filtering, cleaning, etc.\n",
    "# and append to the lists\n",
    "\n",
    "dataset = Dataset.from_dict({\n",
    "    \"anchor\": queries.values,\n",
    "    \"positive\": positives,\n",
    "})"
   ]
  },
  {
   "cell_type": "markdown",
   "metadata": {
    "id": "PzLEmE1cMlkZ"
   },
   "source": [
    "# Run embedding finetuning"
   ]
  }
 ],
 "metadata": {
  "colab": {
   "provenance": []
  },
  "kernelspec": {
   "display_name": "Python 3",
   "name": "python3"
  },
  "language_info": {
   "name": "python"
  }
 },
 "nbformat": 4,
 "nbformat_minor": 0
}
