{
 "cells": [
  {
   "cell_type": "code",
   "execution_count": 1,
   "metadata": {
    "id": "9t04SIdhgYAG"
   },
   "outputs": [],
   "source": [
    "from openai import OpenAI\n",
    "from dotenv import load_dotenv\n",
    "import json\n",
    "import os"
   ]
  },
  {
   "cell_type": "code",
   "execution_count": null,
   "metadata": {},
   "outputs": [],
   "source": [
    "zero_shot_prompting = \"\"\"\n",
    "You are a translation assistant. Translate the following text from {source_lang} to {target_lang}. \n",
    "Only return the translated text without any additional commentary or explanation.\n",
    "\"\"\""
   ]
  },
  {
   "cell_type": "code",
   "execution_count": null,
   "metadata": {},
   "outputs": [],
   "source": [
    "class Translation_FPT_API:\n",
    "    def __init__(self, model_name: str = \"Qwen2.5-7B-Instruct\"):\n",
    "        load_dotenv('env')\n",
    "        self.client = OpenAI(api_key=os.getenv('FPT_API_KEY'), base_url=os.getenv('FPT_API_URL'))\n",
    "        self.model_name = model_name\n",
    "\n",
    "    def translate(self, text: str, source_lang: str, target_lang: str) -> str:\n",
    "        response = self.client.chat.completions.create(\n",
    "            model=self.model_name,\n",
    "            messages=[\n",
    "                {\n",
    "                    \"role\": \"system\",\n",
    "                    \"content\": zero_shot_prompting.format(source_lang=source_lang, target_lang=target_lang)\n",
    "                },\n",
    "                {\n",
    "                    \"role\": \"user\",\n",
    "                    \"content\": text\n",
    "                }\n",
    "            ],\n",
    "            max_tokens=1000,\n",
    "            temperature=0.2\n",
    "        )\n",
    "        return response.choices[0].message.content.strip()\n",
    "\n",
    "        \n",
    "            "
   ]
  }
 ],
 "metadata": {
  "colab": {
   "authorship_tag": "ABX9TyNRSwtx3saOIK66E4qkvINT",
   "provenance": []
  },
  "kernelspec": {
   "display_name": "LLM_SA",
   "language": "python",
   "name": "python3"
  },
  "language_info": {
   "codemirror_mode": {
    "name": "ipython",
    "version": 3
   },
   "file_extension": ".py",
   "mimetype": "text/x-python",
   "name": "python",
   "nbconvert_exporter": "python",
   "pygments_lexer": "ipython3",
   "version": "3.13.2"
  }
 },
 "nbformat": 4,
 "nbformat_minor": 0
}
