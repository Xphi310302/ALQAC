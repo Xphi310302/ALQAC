{
 "cells": [
  {
   "cell_type": "code",
   "execution_count": 5,
   "id": "accffb0d",
   "metadata": {},
   "outputs": [],
   "source": [
    "# read json file def\n",
    "def read_json_file(path):\n",
    "    import json\n",
    "\n",
    "    with open(path, \"r\", encoding=\"utf-8\") as f:\n",
    "        return json.load(f)\n"
   ]
  },
  {
   "cell_type": "code",
   "execution_count": 4,
   "id": "97dce5af",
   "metadata": {},
   "outputs": [],
   "source": [
    "path = \"ALQAC_2025_data/alqac25_train.json\"\n",
    "json_data = read_json_file(path)\n"
   ]
  },
  {
   "cell_type": "code",
   "execution_count": 3,
   "id": "442353b7",
   "metadata": {},
   "outputs": [
    {
     "data": {
      "text/plain": [
       "{'question_id': 'train_alqac25_3',\n",
       " 'question_type': 'Đúng/Sai',\n",
       " 'text': 'Trường hợp thông tin trong Sổ hộ khẩu còn hiệu lực có thông tin khác với thông tin trong Cơ sở dữ liệu về cư trú thì sử dụng thông tin trong Cơ sở dữ liệu về cư trú, đúng hay sai?',\n",
       " 'relevant_articles': [{'law_id': 'Luật Cư trú', 'article_id': '38'}],\n",
       " 'answer': 'Đúng'}"
      ]
     },
     "execution_count": 3,
     "metadata": {},
     "output_type": "execute_result"
    }
   ],
   "source": [
    "json_data[2]"
   ]
  },
  {
   "cell_type": "code",
   "execution_count": 6,
   "id": "0e915dce",
   "metadata": {},
   "outputs": [],
   "source": [
    "base_line = read_json_file(\"evaluation_task2/result_task_2_baseline.json\")\n",
    "llama = read_json_file(\"evaluation_task2/result_task_2_Llama-3.1-8B-Instruct.json\")\n",
    "gemma = read_json_file(\"evaluation_task2/result_task_2_gemma-9b-it.json\")\n",
    "deepseek = read_json_file(\n",
    "    \"evaluation_task2/result_task_2_DeepSeek-R1-Distill-Llama-8B.json\"\n",
    ")\n",
    "base_line_tot = read_json_file(\"evaluation_task2/result_task_2_baseline_ToT.json\")"
   ]
  },
  {
   "cell_type": "code",
   "execution_count": 7,
   "id": "2cf859c2",
   "metadata": {},
   "outputs": [],
   "source": [
    "base_line_results = base_line[\"results\"]\n",
    "llama_results = llama[\"results\"]\n",
    "gemma_results = gemma[\"results\"]\n",
    "deepseek_results = deepseek[\"results\"]\n",
    "base_line_tot_results = base_line_tot[\"results\"]"
   ]
  },
  {
   "cell_type": "code",
   "execution_count": 20,
   "id": "d5d51922",
   "metadata": {},
   "outputs": [],
   "source": [
    "from collections import Counter\n",
    "\n",
    "\n",
    "def combine_results(result_list, best_model_index, json_data):\n",
    "    final_results = []\n",
    "\n",
    "    # Check if all lists have the same length\n",
    "    lengths = [len(results) for results in result_list]\n",
    "    if len(set(lengths)) != 1:\n",
    "        print(\"Error: Result lists have different lengths.\")\n",
    "        return []\n",
    "\n",
    "    for i in range(lengths[0]):\n",
    "        question_type = json_data[i][\"question_type\"]\n",
    "        final_predict = None\n",
    "\n",
    "        if question_type == \"Tự luận\":\n",
    "            # For essay questions, take prediction from last model\n",
    "            final_predict = result_list[best_model_index][i][\"predict\"]\n",
    "        else:\n",
    "            # For other types, get majority vote from all models\n",
    "            predicts = [results[i][\"predict\"] for results in result_list]\n",
    "            counts = Counter(predicts)\n",
    "            final_predict = counts.most_common(1)[0][0]\n",
    "\n",
    "        result_item = {\n",
    "            \"question_id\": json_data[i][\"question_id\"],\n",
    "            \"answer\": final_predict,\n",
    "            \"question_type\": question_type,\n",
    "        }\n",
    "        final_results.append(result_item)\n",
    "\n",
    "    return final_results\n",
    "\n",
    "\n",
    "# Usage:\n",
    "final_results = combine_results(\n",
    "    [base_line_results, llama_results, gemma_results, base_line_tot_results],\n",
    "    2,\n",
    "    json_data,\n",
    ")"
   ]
  },
  {
   "cell_type": "code",
   "execution_count": 21,
   "id": "1190be43",
   "metadata": {},
   "outputs": [],
   "source": [
    "def acc_eval_from_list(prediction_list, gold_list):\n",
    "    \"\"\"\n",
    "    Evaluate accuracy from prediction and gold answer lists.\n",
    "    Each element in both lists is a dict with keys: 'question_id' and 'answer'.\n",
    "    Returns accuracy float.\n",
    "    \"\"\"\n",
    "    gold_dict = {item[\"question_id\"]: item[\"answer\"] for item in gold_list}\n",
    "    pred_dict = {item[\"question_id\"]: item[\"answer\"] for item in prediction_list}\n",
    "    count_true = 0\n",
    "    total = len(gold_dict)\n",
    "    for qid, gold_ans in gold_dict.items():\n",
    "        pred_ans = pred_dict.get(qid)\n",
    "        if pred_ans is not None and pred_ans.lower() == gold_ans.lower():\n",
    "            count_true += 1\n",
    "    acc = count_true / total if total else 0\n",
    "    print(\"Acc = {}\".format(acc))\n",
    "    return acc\n"
   ]
  },
  {
   "cell_type": "code",
   "execution_count": 22,
   "id": "4cd6fc26",
   "metadata": {},
   "outputs": [
    {
     "name": "stdout",
     "output_type": "stream",
     "text": [
      "Acc = 0.7722908093278463\n"
     ]
    }
   ],
   "source": [
    "acc = acc_eval_from_list(final_results, json_data)\n",
    "eval_metrics = {\n",
    "    \"accuracy\": acc,\n",
    "    \"total_questions\": len(json_data),\n",
    "    \"evaluated_questions\": len(final_results),\n",
    "}"
   ]
  },
  {
   "cell_type": "code",
   "execution_count": null,
   "id": "8743beec",
   "metadata": {},
   "outputs": [],
   "source": []
  }
 ],
 "metadata": {
  "kernelspec": {
   "display_name": ".venv",
   "language": "python",
   "name": "python3"
  },
  "language_info": {
   "codemirror_mode": {
    "name": "ipython",
    "version": 3
   },
   "file_extension": ".py",
   "mimetype": "text/x-python",
   "name": "python",
   "nbconvert_exporter": "python",
   "pygments_lexer": "ipython3",
   "version": "3.11.11"
  }
 },
 "nbformat": 4,
 "nbformat_minor": 5
}
