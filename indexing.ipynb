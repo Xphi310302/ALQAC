{
 "cells": [
  {
   "cell_type": "code",
   "execution_count": 5,
   "id": "873759dd",
   "metadata": {},
   "outputs": [],
   "source": [
    "from llama_index.core.schema import (\n",
    "    TextNode,\n",
    "    NodeRelationship,\n",
    "    RelatedNodeInfo,\n",
    "    ObjectType,\n",
    ")\n",
    "from typing import List, Dict\n",
    "import uuid\n",
    "from llama_index.embeddings.huggingface import HuggingFaceEmbedding\n",
    "from law_search.vector_db import QdrantCollection\n",
    "from llama_index.core import Settings\n",
    "\n",
    "# Hardcoded configurations\n",
    "MODEL_NAME = \"truro7/vn-law-embedding\"\n",
    "MODEL_CACHE_DIR = \"./models\"\n",
    "COLLECTION_NAME = \"law_sections\"\n",
    "\n",
    "\n",
    "def process_json_content(json_content: List[Dict], file_name: str) -> List[TextNode]:\n",
    "    \"\"\"\n",
    "    Process JSON content and create TextNodes with relationships.\n",
    "\n",
    "    Args:\n",
    "        json_content: List containing the document json\n",
    "        file_name: Name of the source file\n",
    "\n",
    "    Returns:\n",
    "        List of TextNodes with established relationships\n",
    "    \"\"\"\n",
    "\n",
    "    nodes = []\n",
    "    for content in json_content:\n",
    "        section_id = list(content.keys())[0]\n",
    "        section_data = list(content.values())[0]\n",
    "        # Create text node\n",
    "        node = TextNode(\n",
    "            text=section_data,\n",
    "            id_=str(uuid.uuid4()),\n",
    "            metadata={\n",
    "                \"doc_id\": file_name,\n",
    "                \"section_id\": section_id,\n",
    "                \"title\": section_data.split(\"\\n\\n\")[0],\n",
    "            },\n",
    "        )\n",
    "        nodes.append(node)\n",
    "\n",
    "    for i, node in enumerate(nodes):\n",
    "        if i > 0:\n",
    "            node.relationships[NodeRelationship.PREVIOUS] = RelatedNodeInfo(\n",
    "                node_id=nodes[i - 1].node_id,\n",
    "                node_type=ObjectType.TEXT,\n",
    "                hash=nodes[i - 1].hash,\n",
    "            )\n",
    "        if i < len(nodes) - 1:\n",
    "            node.relationships[NodeRelationship.NEXT] = RelatedNodeInfo(\n",
    "                node_id=nodes[i + 1].node_id,\n",
    "                node_type=ObjectType.TEXT,\n",
    "                hash=nodes[i + 1].hash,\n",
    "            )\n",
    "    return nodes\n",
    "\n",
    "\n",
    "def setup_embedding_model() -> None:\n",
    "    \"\"\"Initialize and setup the embedding model.\"\"\"\n",
    "\n",
    "    embed_model = HuggingFaceEmbedding(\n",
    "        model_name=MODEL_NAME,\n",
    "        trust_remote_code=True,\n",
    "        cache_folder=MODEL_CACHE_DIR,\n",
    "    )\n",
    "    Settings.embed_model = embed_model\n",
    "    Settings.chunk_size = 512\n",
    "    Settings.db = QdrantCollection(collection_name=\"law_sections\")\n",
    "  "
   ]
  },
  {
   "cell_type": "code",
   "execution_count": 6,
   "id": "cceb2db5",
   "metadata": {},
   "outputs": [
    {
     "name": "stderr",
     "output_type": "stream",
     "text": [
      "Invalid model-index. Not loading eval results into CardData.\n",
      "Invalid model-index. Not loading eval results into CardData.\n"
     ]
    },
    {
     "name": "stdout",
     "output_type": "stream",
     "text": [
      "Initializing Qdrant with data directory: /home/xphi/Desktop/shared-tasks/ALQAC/qdrant\n",
      "Vector store initialized successfully\n"
     ]
    }
   ],
   "source": [
    "# Setup embedidng\n",
    "setup_embedding_model()\n"
   ]
  },
  {
   "cell_type": "markdown",
   "id": "39c6d6b4",
   "metadata": {},
   "source": [
    "Only run once"
   ]
  },
  {
   "cell_type": "code",
   "execution_count": null,
   "id": "9036de78",
   "metadata": {},
   "outputs": [],
   "source": [
    "# from pathlib import Path\n",
    "# import json\n",
    "# from law_search import QdrantCollection\n",
    "\n",
    "# nodes = []\n",
    "# # Indexing to qdrant local db\n",
    "\n",
    "# output_path = Path(\"./output\")\n",
    "# for filename in output_path.glob(\"*\"):\n",
    "#     print(filename.stem)\n",
    "#     with open(filename, \"r\") as file:\n",
    "#         json_content = json.load(file)\n",
    "#     nodes.extend(process_json_content(json_content, filename.stem))\n",
    "## # db = QdrantCollection(collection_name=COLLECTION_NAME)\n",
    "# Settings.db.insert_nodes(nodes)"
   ]
  },
  {
   "cell_type": "markdown",
   "id": "8cb235db",
   "metadata": {},
   "source": [
    "# Retriever"
   ]
  },
  {
   "cell_type": "code",
   "execution_count": null,
   "id": "f708b2a1",
   "metadata": {},
   "outputs": [],
   "source": [
    "TOP_K = 1\n",
    "SPARSE_TOP_K = 20\n",
    "retriever_engine = Settings.db._index.as_retriever(\n",
    "    similarity_top_k=TOP_K,\n",
    "    sparse_top_k=SPARSE_TOP_K,\n",
    "    vector_store_query_mode=\"hybrid\",\n",
    "    # node_postprocessor=[],\n",
    ")\n"
   ]
  },
  {
   "cell_type": "code",
   "execution_count": null,
   "id": "2b324ef9",
   "metadata": {},
   "outputs": [
    {
     "data": {
      "text/plain": [
       "{'result': [{'document': 'Bộ luật dân sự',\n",
       "   'id': '71',\n",
       "   'score': 0.926687009209757,\n",
       "   'text': 'Tuyên bố chết\\n\\n1. Người có quyền, lợi ích liên quan có thể yêu cầu Tòa án ra quyết định tuyên bố một người là đã chết trong trường hợp sau đây:\\n\\na) Sau 03 năm, kể từ ngày quyết định tuyên bố mất tích của Tòa án có hiệu lực pháp luật mà vẫn không có tin tức xác thực là còn sống;\\n\\nb) Biệt tích trong chiến tranh sau 05 năm, kể từ ngày chiến tranh kết thúc mà vẫn không có tin tức xác thực là còn sống;\\n\\nc) Bị tai nạn hoặc thảm họa, thiên tai mà sau 02 năm, kể từ ngày tai nạn hoặc thảm hoạ, thiên tai đó chấm dứt vẫn không có tin tức xác thực là còn sống, trừ trường hợp pháp luật có quy định khác;\\n\\nd) Biệt tích 05 năm liền trở lên và không có tin tức xác thực là còn sống; thời hạn này được tính theo quy định tại khoản 1 Điều 68 của Bộ luật này.\\n\\n2. Căn cứ vào các trường hợp quy định tại khoản 1 Điều này, Tòa án xác định ngày chết của người bị tuyên bố là đã chết.\\n\\n3. Quyết định của Tòa án tuyên bố một người là đã chết phải được gửi cho Ủy ban nhân dân cấp xã nơi cư trú của người bị tuyên bố là đã chết để ghi chú theo quy định của pháp luật về hộ tịch.'}]}"
      ]
     },
     "execution_count": 9,
     "metadata": {},
     "output_type": "execute_result"
    }
   ],
   "source": [
    "from llama_index.core.schema import QueryBundle\n",
    "\n",
    "\n",
    "def retrieve(query):\n",
    "    result_nodes = retriever_engine._retrieve(\n",
    "        QueryBundle(\n",
    "            query_str=query,\n",
    "        )\n",
    "    )\n",
    "    result_dict = {\"result\": []}\n",
    "    for node in result_nodes:\n",
    "        if TOP_K > 1:\n",
    "            if node.score < 0.5:\n",
    "                continue\n",
    "        else:\n",
    "            result_dict[\"result\"].append(\n",
    "                {\n",
    "                    \"document\": node.node.metadata[\"doc_id\"],\n",
    "                    \"id\": node.node.metadata[\"section_id\"],\n",
    "                    \"score\": node.score,\n",
    "                    \"text\": node.node.text,\n",
    "                }\n",
    "            )\n",
    "    return result_dict\n",
    "\n",
    "\n",
    "query = \"\"\"\n",
    "Một người có thể được người có quyền theo quy định của pháp luật yêu cầu Tòa án ra quyết định tuyên bố là đã chết khi người đó biệt tích trong chiến tranh sau 05 năm, kể từ ngày chiến tranh kết thúc mà vẫn không có tin tức xác thực là còn sống, đúng hay sai?\n",
    "\"\"\"\n",
    "retrieve(query)\n"
   ]
  },
  {
   "cell_type": "markdown",
   "id": "6b6024fa",
   "metadata": {},
   "source": [
    "# Evaluation"
   ]
  },
  {
   "cell_type": "code",
   "execution_count": 10,
   "id": "fead1f94",
   "metadata": {},
   "outputs": [
    {
     "data": {
      "text/plain": [
       "[{'question_id': 'train_alqac25_1',\n",
       "  'question_type': 'Đúng/Sai',\n",
       "  'text': 'Người nghiện ma túy từ đủ 18 tuổi trở lên bị áp dụng biện pháp xử lý hành chính đưa vào cơ sở cai nghiện bắt buộc theo quy định của Luật Xử lý vi phạm hành chính khi bị phát hiện sử dụng chất ma túy một cách trái phép trong thời gian cai nghiện ma túy tự nguyện, đúng hay sai?',\n",
       "  'relevant_articles': [{'law_id': 'Luật Phòng, chống ma túy',\n",
       "    'article_id': '32'}],\n",
       "  'answer': 'Đúng'},\n",
       " {'question_id': 'train_alqac25_2',\n",
       "  'question_type': 'Đúng/Sai',\n",
       "  'text': 'Quan hệ hôn nhân và gia đình có yếu tố nước ngoài là quan hệ hôn nhân và gia đình mà ít nhất một bên tham gia là người nước ngoài, người Việt Nam định cư ở nước ngoài, đúng hay sai?',\n",
       "  'relevant_articles': [{'law_id': 'Luật Hôn nhân và gia đình',\n",
       "    'article_id': '3'}],\n",
       "  'answer': 'Đúng'}]"
      ]
     },
     "execution_count": 10,
     "metadata": {},
     "output_type": "execute_result"
    }
   ],
   "source": [
    "# Evaluation\n",
    "import json\n",
    "\n",
    "path = \"ALQAC_2025_data/alqac25_train.json\"\n",
    "\n",
    "with open(path, \"r\", encoding=\"utf-8\") as f:\n",
    "    json_data = json.load(f)\n",
    "\n",
    "json_data[:2]"
   ]
  },
  {
   "cell_type": "code",
   "execution_count": 11,
   "id": "7f37a73c",
   "metadata": {},
   "outputs": [
    {
     "data": {
      "text/plain": [
       "{1: 718, 2: 10, 3: 1}"
      ]
     },
     "execution_count": 11,
     "metadata": {},
     "output_type": "execute_result"
    }
   ],
   "source": [
    "number_of_articles = {}\n",
    "for item in json_data:\n",
    "    count = len(item[\"relevant_articles\"])\n",
    "    if count not in number_of_articles:\n",
    "        number_of_articles[count] = 1\n",
    "    else:\n",
    "        number_of_articles[count] += 1\n",
    "number_of_articles"
   ]
  },
  {
   "cell_type": "code",
   "execution_count": 12,
   "id": "957f7a7c",
   "metadata": {},
   "outputs": [],
   "source": [
    "def calculate_precision(retrieved_articles, relevant_articles):\n",
    "    \"\"\"\n",
    "    Calculates precision for a single question.\n",
    "    A retrieved article is correct if its (law_id, article_id) tuple matches a relevant article.\n",
    "    \"\"\"\n",
    "    retrieved_set = {(item[\"document\"], item[\"id\"]) for item in retrieved_articles}\n",
    "    relevant_set = {(item[\"law_id\"], item[\"article_id\"]) for item in relevant_articles}\n",
    "\n",
    "    correctly_retrieved = len(retrieved_set.intersection(relevant_set))\n",
    "    total_retrieved = len(retrieved_set)\n",
    "\n",
    "    if total_retrieved == 0:\n",
    "        return 0.0\n",
    "\n",
    "    return correctly_retrieved / total_retrieved\n",
    "\n",
    "\n",
    "def calculate_recall(retrieved_articles, relevant_articles):\n",
    "    \"\"\"\n",
    "    Calculates recall for a single question.\n",
    "    A retrieved article is correct if its (law_id, article_id) tuple matches a relevant article.\n",
    "    \"\"\"\n",
    "    retrieved_set = {(item[\"document\"], item[\"id\"]) for item in retrieved_articles}\n",
    "    relevant_set = {(item[\"law_id\"], item[\"article_id\"]) for item in relevant_articles}\n",
    "\n",
    "    correctly_retrieved = len(retrieved_set.intersection(relevant_set))\n",
    "    total_relevant = len(relevant_set)\n",
    "\n",
    "    if total_relevant == 0:\n",
    "        return 0.0\n",
    "\n",
    "    return correctly_retrieved / total_relevant\n",
    "\n",
    "\n",
    "def calculate_f2_score(precision, recall):\n",
    "    \"\"\"\n",
    "    Calculates the F2 score based on the provided formula.\n",
    "    \"\"\"\n",
    "    if (4 * precision + recall) == 0:\n",
    "        return 0.0\n",
    "\n",
    "    return (5 * precision * recall) / (4 * precision + recall)\n"
   ]
  },
  {
   "cell_type": "code",
   "execution_count": 13,
   "id": "fa5f869c",
   "metadata": {},
   "outputs": [
    {
     "name": "stdout",
     "output_type": "stream",
     "text": [
      "Average Precision: 0.7490\n",
      "Average Recall: 0.7442\n",
      "Average F2-Score: 0.7447\n"
     ]
    }
   ],
   "source": [
    "import os\n",
    "import json\n",
    "\n",
    "all_precision = []\n",
    "all_recall = []\n",
    "all_f2_scores = []\n",
    "details = []\n",
    "\n",
    "os.makedirs(\"evaluation\", exist_ok=True)\n",
    "\n",
    "for idx, item in enumerate(json_data):\n",
    "    query = item[\"text\"]\n",
    "    relevant_articles = item[\"relevant_articles\"]\n",
    "\n",
    "    retrieved_results = retrieve(query)\n",
    "    retrieved_articles = retrieved_results.get(\"result\", [])\n",
    "    precision = calculate_precision(retrieved_articles, relevant_articles)\n",
    "    recall = calculate_recall(retrieved_articles, relevant_articles)\n",
    "    f2 = calculate_f2_score(precision, recall)\n",
    "\n",
    "    all_precision.append(precision)\n",
    "    all_recall.append(recall)\n",
    "    all_f2_scores.append(f2)\n",
    "    details.append(\n",
    "        {\n",
    "            \"question_id\": item.get(\"question_id\", idx),\n",
    "            \"query\": query,\n",
    "            \"precision\": precision,\n",
    "            \"recall\": recall,\n",
    "            \"f2_score\": f2,\n",
    "            \"retrieved_articles\": retrieved_articles,\n",
    "            \"relevant_articles\": relevant_articles,\n",
    "        }\n",
    "    )\n",
    "\n",
    "if all_f2_scores:\n",
    "    average_f2 = sum(all_f2_scores) / len(all_f2_scores)\n",
    "    average_precision = sum(all_precision) / len(all_precision)\n",
    "    average_recall = sum(all_recall) / len(all_recall)\n",
    "    print(f\"Average Precision: {average_precision:.4f}\")\n",
    "    print(f\"Average Recall: {average_recall:.4f}\")\n",
    "    print(f\"Average F2-Score: {average_f2:.4f}\")\n",
    "else:\n",
    "    print(\"Could not calculate F2-Score, no data processed.\")\n",
    "\n",
    "with open(\n",
    "    f\"evaluation/detailed_metrics_{TOP_K}_{SPARSE_TOP_K}.json\", \"w\", encoding=\"utf-8\"\n",
    ") as f:\n",
    "    json.dump(\n",
    "        {\n",
    "            \"average_precision\": average_precision if all_f2_scores else None,\n",
    "            \"average_recall\": average_recall if all_f2_scores else None,\n",
    "            \"average_f2_score\": average_f2 if all_f2_scores else None,\n",
    "            \"details\": details,\n",
    "        },\n",
    "        f,\n",
    "        ensure_ascii=False,\n",
    "        indent=2,\n",
    "    )\n"
   ]
  },
  {
   "cell_type": "code",
   "execution_count": null,
   "id": "aa38a06e",
   "metadata": {},
   "outputs": [],
   "source": []
  }
 ],
 "metadata": {
  "kernelspec": {
   "display_name": ".venv",
   "language": "python",
   "name": "python3"
  },
  "language_info": {
   "codemirror_mode": {
    "name": "ipython",
    "version": 3
   },
   "file_extension": ".py",
   "mimetype": "text/x-python",
   "name": "python",
   "nbconvert_exporter": "python",
   "pygments_lexer": "ipython3",
   "version": "3.11.11"
  }
 },
 "nbformat": 4,
 "nbformat_minor": 5
}
